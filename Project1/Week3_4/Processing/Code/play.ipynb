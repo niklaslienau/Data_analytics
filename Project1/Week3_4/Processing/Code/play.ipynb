{
 "cells": [
  {
   "cell_type": "code",
   "execution_count": 128,
   "outputs": [],
   "source": [
    "import pandas as pd\n",
    "import numpy as np\n",
    "from sklearn.model_selection import train_test_split\n",
    "from sklearn.ensemble import RandomForestRegressor\n",
    "from sklearn.metrics import mean_squared_error\n",
    "from sklearn.model_selection import RandomizedSearchCV\n",
    "from scipy import stats\n",
    "from sklearn.linear_model import LinearRegression\n",
    "import random"
   ],
   "metadata": {
    "collapsed": false,
    "pycharm": {
     "name": "#%%\n"
    }
   }
  },
  {
   "cell_type": "code",
   "execution_count": 130,
   "outputs": [
    {
     "data": {
      "text/plain": "1850"
     },
     "execution_count": 130,
     "metadata": {},
     "output_type": "execute_result"
    }
   ],
   "source": [
    "data_path = \"C:/Users/nikil/OneDrive/Desktop/Uni/M.Sc/Data Analytics/Project1/Week3_4/Processing/Output/\"\n",
    "data=pd.read_csv(data_path + \"data_for_pred.csv\")\n",
    "data.drop(columns=[\"Unnamed: 0\"], inplace=True)\n",
    "data=data.dropna()\n",
    "\n",
    "data = data[(np.abs(stats.zscore(data[\"Population\"])) <3 )]\n",
    "data= data[(np.abs(stats.zscore(data[\"appointments\"])) <3 )]\n",
    "random.seed(1)\n"
   ],
   "metadata": {
    "collapsed": false,
    "pycharm": {
     "name": "#%%\n"
    }
   }
  },
  {
   "cell_type": "code",
   "execution_count": 138,
   "outputs": [
    {
     "data": {
      "text/plain": "      year_25  C_ID   latitude  longitude  Population  appointments\n0        1575     1  52.027252  -0.495142       330.0            25\n1        1575    10  51.878670  -0.420025      1600.0             7\n2        1575  1002  52.267639  -2.157384       230.0             9\n3        1575  1003  52.260704  -2.143421       180.0            19\n4        1575  1006  52.091644  -1.946976       870.0             2\n...       ...   ...        ...        ...         ...           ...\n2416     1850   810  52.761517  -1.935967      3621.0             1\n2417     1850   895  50.838306  -0.769558       588.5             2\n2418     1850   940  52.250504  -1.389719       855.5             2\n2419     1850   974  51.372562  -1.619764       646.5             1\n2420     1850   992  51.204628  -2.181078      5252.5             1\n\n[2421 rows x 6 columns]",
      "text/html": "<div>\n<style scoped>\n    .dataframe tbody tr th:only-of-type {\n        vertical-align: middle;\n    }\n\n    .dataframe tbody tr th {\n        vertical-align: top;\n    }\n\n    .dataframe thead th {\n        text-align: right;\n    }\n</style>\n<table border=\"1\" class=\"dataframe\">\n  <thead>\n    <tr style=\"text-align: right;\">\n      <th></th>\n      <th>year_25</th>\n      <th>C_ID</th>\n      <th>latitude</th>\n      <th>longitude</th>\n      <th>Population</th>\n      <th>appointments</th>\n    </tr>\n  </thead>\n  <tbody>\n    <tr>\n      <th>0</th>\n      <td>1575</td>\n      <td>1</td>\n      <td>52.027252</td>\n      <td>-0.495142</td>\n      <td>330.0</td>\n      <td>25</td>\n    </tr>\n    <tr>\n      <th>1</th>\n      <td>1575</td>\n      <td>10</td>\n      <td>51.878670</td>\n      <td>-0.420025</td>\n      <td>1600.0</td>\n      <td>7</td>\n    </tr>\n    <tr>\n      <th>2</th>\n      <td>1575</td>\n      <td>1002</td>\n      <td>52.267639</td>\n      <td>-2.157384</td>\n      <td>230.0</td>\n      <td>9</td>\n    </tr>\n    <tr>\n      <th>3</th>\n      <td>1575</td>\n      <td>1003</td>\n      <td>52.260704</td>\n      <td>-2.143421</td>\n      <td>180.0</td>\n      <td>19</td>\n    </tr>\n    <tr>\n      <th>4</th>\n      <td>1575</td>\n      <td>1006</td>\n      <td>52.091644</td>\n      <td>-1.946976</td>\n      <td>870.0</td>\n      <td>2</td>\n    </tr>\n    <tr>\n      <th>...</th>\n      <td>...</td>\n      <td>...</td>\n      <td>...</td>\n      <td>...</td>\n      <td>...</td>\n      <td>...</td>\n    </tr>\n    <tr>\n      <th>2416</th>\n      <td>1850</td>\n      <td>810</td>\n      <td>52.761517</td>\n      <td>-1.935967</td>\n      <td>3621.0</td>\n      <td>1</td>\n    </tr>\n    <tr>\n      <th>2417</th>\n      <td>1850</td>\n      <td>895</td>\n      <td>50.838306</td>\n      <td>-0.769558</td>\n      <td>588.5</td>\n      <td>2</td>\n    </tr>\n    <tr>\n      <th>2418</th>\n      <td>1850</td>\n      <td>940</td>\n      <td>52.250504</td>\n      <td>-1.389719</td>\n      <td>855.5</td>\n      <td>2</td>\n    </tr>\n    <tr>\n      <th>2419</th>\n      <td>1850</td>\n      <td>974</td>\n      <td>51.372562</td>\n      <td>-1.619764</td>\n      <td>646.5</td>\n      <td>1</td>\n    </tr>\n    <tr>\n      <th>2420</th>\n      <td>1850</td>\n      <td>992</td>\n      <td>51.204628</td>\n      <td>-2.181078</td>\n      <td>5252.5</td>\n      <td>1</td>\n    </tr>\n  </tbody>\n</table>\n<p>2421 rows × 6 columns</p>\n</div>"
     },
     "execution_count": 138,
     "metadata": {},
     "output_type": "execute_result"
    }
   ],
   "source": [
    "data.reset_index(drop=True)"
   ],
   "metadata": {
    "collapsed": false,
    "pycharm": {
     "name": "#%%\n"
    }
   }
  },
  {
   "cell_type": "code",
   "execution_count": 142,
   "outputs": [
    {
     "data": {
      "text/plain": "       Population  appointments\ncount      2421.0        2421.0\nmean       1741.4          18.9\nstd        2115.7          17.7\nmin          10.0           1.0\n25%         570.0           6.0\n50%        1029.0          14.0\n75%        2000.0          26.0\nmax       17525.0         125.0",
      "text/html": "<div>\n<style scoped>\n    .dataframe tbody tr th:only-of-type {\n        vertical-align: middle;\n    }\n\n    .dataframe tbody tr th {\n        vertical-align: top;\n    }\n\n    .dataframe thead th {\n        text-align: right;\n    }\n</style>\n<table border=\"1\" class=\"dataframe\">\n  <thead>\n    <tr style=\"text-align: right;\">\n      <th></th>\n      <th>Population</th>\n      <th>appointments</th>\n    </tr>\n  </thead>\n  <tbody>\n    <tr>\n      <th>count</th>\n      <td>2421.0</td>\n      <td>2421.0</td>\n    </tr>\n    <tr>\n      <th>mean</th>\n      <td>1741.4</td>\n      <td>18.9</td>\n    </tr>\n    <tr>\n      <th>std</th>\n      <td>2115.7</td>\n      <td>17.7</td>\n    </tr>\n    <tr>\n      <th>min</th>\n      <td>10.0</td>\n      <td>1.0</td>\n    </tr>\n    <tr>\n      <th>25%</th>\n      <td>570.0</td>\n      <td>6.0</td>\n    </tr>\n    <tr>\n      <th>50%</th>\n      <td>1029.0</td>\n      <td>14.0</td>\n    </tr>\n    <tr>\n      <th>75%</th>\n      <td>2000.0</td>\n      <td>26.0</td>\n    </tr>\n    <tr>\n      <th>max</th>\n      <td>17525.0</td>\n      <td>125.0</td>\n    </tr>\n  </tbody>\n</table>\n</div>"
     },
     "execution_count": 142,
     "metadata": {},
     "output_type": "execute_result"
    }
   ],
   "source": [
    "data.describe().drop(columns=[\"year_25\", \"C_ID\", \"latitude\", \"longitude\"]).round(1)"
   ],
   "metadata": {
    "collapsed": false,
    "pycharm": {
     "name": "#%%\n"
    }
   }
  },
  {
   "cell_type": "code",
   "execution_count": null,
   "outputs": [],
   "source": [],
   "metadata": {
    "collapsed": false,
    "pycharm": {
     "name": "#%%\n"
    }
   }
  }
 ],
 "metadata": {
  "kernelspec": {
   "display_name": "Python 3",
   "language": "python",
   "name": "python3"
  },
  "language_info": {
   "codemirror_mode": {
    "name": "ipython",
    "version": 2
   },
   "file_extension": ".py",
   "mimetype": "text/x-python",
   "name": "python",
   "nbconvert_exporter": "python",
   "pygments_lexer": "ipython2",
   "version": "2.7.6"
  }
 },
 "nbformat": 4,
 "nbformat_minor": 0
}