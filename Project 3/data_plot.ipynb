{
 "cells": [
  {
   "cell_type": "code",
   "execution_count": 93,
   "outputs": [],
   "source": [
    "import pandas as pd\n",
    "import numpy as np\n",
    "import os\n",
    "os.chdir(\"C:/Users/nikil/OneDrive/Desktop/Uni/M.Sc/Data Analytics/Project 3/Output/\")"
   ],
   "metadata": {
    "collapsed": false,
    "pycharm": {
     "name": "#%%\n"
    }
   }
  },
  {
   "cell_type": "code",
   "execution_count": 95,
   "outputs": [
    {
     "data": {
      "text/plain": "              0           1            2           3            4\n0        member         tax          act         war        wheat\n1          time      income      section     country        price\n2       country  income tax        board        time      farmers\n3       members        cent    amendment     defence        cents\n4        matter    taxation      council         air       prices\n5          work       taxes   parliament       world        board\n6         years      budget  legislation     service        grain\n7      question         war    provinces     nations       market\n8         money     revenue         time        army     products\n9          cent     tax act      pension     members         farm\n10          way       money   commission      member       farmer\n11        order     country        order      policy   production\n12        trade        time        court    veterans         cent\n13    statement         act        power       force  agriculture\n14          day     war tax       member      effort      bushels\n15      service   sales tax          law      forces         crop\n16         fact     finance       matter       years  wheat board\n17     industry  income war          age  war effort         time\n18  information       sales     dominion    services      country\n19       number         pay      members       peace       bushel",
      "text/html": "<div>\n<style scoped>\n    .dataframe tbody tr th:only-of-type {\n        vertical-align: middle;\n    }\n\n    .dataframe tbody tr th {\n        vertical-align: top;\n    }\n\n    .dataframe thead th {\n        text-align: right;\n    }\n</style>\n<table border=\"1\" class=\"dataframe\">\n  <thead>\n    <tr style=\"text-align: right;\">\n      <th></th>\n      <th>0</th>\n      <th>1</th>\n      <th>2</th>\n      <th>3</th>\n      <th>4</th>\n    </tr>\n  </thead>\n  <tbody>\n    <tr>\n      <th>0</th>\n      <td>member</td>\n      <td>tax</td>\n      <td>act</td>\n      <td>war</td>\n      <td>wheat</td>\n    </tr>\n    <tr>\n      <th>1</th>\n      <td>time</td>\n      <td>income</td>\n      <td>section</td>\n      <td>country</td>\n      <td>price</td>\n    </tr>\n    <tr>\n      <th>2</th>\n      <td>country</td>\n      <td>income tax</td>\n      <td>board</td>\n      <td>time</td>\n      <td>farmers</td>\n    </tr>\n    <tr>\n      <th>3</th>\n      <td>members</td>\n      <td>cent</td>\n      <td>amendment</td>\n      <td>defence</td>\n      <td>cents</td>\n    </tr>\n    <tr>\n      <th>4</th>\n      <td>matter</td>\n      <td>taxation</td>\n      <td>council</td>\n      <td>air</td>\n      <td>prices</td>\n    </tr>\n    <tr>\n      <th>5</th>\n      <td>work</td>\n      <td>taxes</td>\n      <td>parliament</td>\n      <td>world</td>\n      <td>board</td>\n    </tr>\n    <tr>\n      <th>6</th>\n      <td>years</td>\n      <td>budget</td>\n      <td>legislation</td>\n      <td>service</td>\n      <td>grain</td>\n    </tr>\n    <tr>\n      <th>7</th>\n      <td>question</td>\n      <td>war</td>\n      <td>provinces</td>\n      <td>nations</td>\n      <td>market</td>\n    </tr>\n    <tr>\n      <th>8</th>\n      <td>money</td>\n      <td>revenue</td>\n      <td>time</td>\n      <td>army</td>\n      <td>products</td>\n    </tr>\n    <tr>\n      <th>9</th>\n      <td>cent</td>\n      <td>tax act</td>\n      <td>pension</td>\n      <td>members</td>\n      <td>farm</td>\n    </tr>\n    <tr>\n      <th>10</th>\n      <td>way</td>\n      <td>money</td>\n      <td>commission</td>\n      <td>member</td>\n      <td>farmer</td>\n    </tr>\n    <tr>\n      <th>11</th>\n      <td>order</td>\n      <td>country</td>\n      <td>order</td>\n      <td>policy</td>\n      <td>production</td>\n    </tr>\n    <tr>\n      <th>12</th>\n      <td>trade</td>\n      <td>time</td>\n      <td>court</td>\n      <td>veterans</td>\n      <td>cent</td>\n    </tr>\n    <tr>\n      <th>13</th>\n      <td>statement</td>\n      <td>act</td>\n      <td>power</td>\n      <td>force</td>\n      <td>agriculture</td>\n    </tr>\n    <tr>\n      <th>14</th>\n      <td>day</td>\n      <td>war tax</td>\n      <td>member</td>\n      <td>effort</td>\n      <td>bushels</td>\n    </tr>\n    <tr>\n      <th>15</th>\n      <td>service</td>\n      <td>sales tax</td>\n      <td>law</td>\n      <td>forces</td>\n      <td>crop</td>\n    </tr>\n    <tr>\n      <th>16</th>\n      <td>fact</td>\n      <td>finance</td>\n      <td>matter</td>\n      <td>years</td>\n      <td>wheat board</td>\n    </tr>\n    <tr>\n      <th>17</th>\n      <td>industry</td>\n      <td>income war</td>\n      <td>age</td>\n      <td>war effort</td>\n      <td>time</td>\n    </tr>\n    <tr>\n      <th>18</th>\n      <td>information</td>\n      <td>sales</td>\n      <td>dominion</td>\n      <td>services</td>\n      <td>country</td>\n    </tr>\n    <tr>\n      <th>19</th>\n      <td>number</td>\n      <td>pay</td>\n      <td>members</td>\n      <td>peace</td>\n      <td>bushel</td>\n    </tr>\n  </tbody>\n</table>\n</div>"
     },
     "execution_count": 95,
     "metadata": {},
     "output_type": "execute_result"
    }
   ],
   "source": [
    "clusters=pd.read_csv(\"C:/Users/nikil/OneDrive/Desktop/Uni/M.Sc/Data Analytics/Project 3/Output/NLTK_Clusters_5.csv\")\n",
    "print(clusters)"
   ],
   "metadata": {
    "collapsed": false,
    "pycharm": {
     "name": "#%%\n"
    }
   }
  },
  {
   "cell_type": "code",
   "execution_count": null,
   "outputs": [],
   "source": [],
   "metadata": {
    "collapsed": false,
    "pycharm": {
     "name": "#%%\n"
    }
   }
  }
 ],
 "metadata": {
  "kernelspec": {
   "display_name": "Python 3",
   "language": "python",
   "name": "python3"
  },
  "language_info": {
   "codemirror_mode": {
    "name": "ipython",
    "version": 2
   },
   "file_extension": ".py",
   "mimetype": "text/x-python",
   "name": "python",
   "nbconvert_exporter": "python",
   "pygments_lexer": "ipython2",
   "version": "2.7.6"
  }
 },
 "nbformat": 4,
 "nbformat_minor": 0
}